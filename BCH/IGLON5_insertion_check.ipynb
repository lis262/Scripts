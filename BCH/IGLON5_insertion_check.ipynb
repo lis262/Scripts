{
 "cells": [
  {
   "cell_type": "markdown",
   "metadata": {},
   "source": [
    "### analyze coverage at homopolymer loci\n",
    "In the OMS cohort, we found a lot of samples with a frameshift insertion in the start coding of IGLON5. However that insertion locate in the begin homopolymer of C. Illumina usually may have errors in sequencing the homopolymer regions. So here we want to verify if the insertion in IGLON5 is due to the sequencing error. We looked at all the homopolymer loci in the genome and check the read coverage at those loci."
   ]
  },
  {
   "cell_type": "code",
   "execution_count": 230,
   "metadata": {},
   "outputs": [
    {
     "name": "stdout",
     "output_type": "stream",
     "text": [
      "there are 135 homopolymer C regions in coding regions\n",
      "there are 15206 homopolymer C regions in the whole genome\n"
     ]
    }
   ],
   "source": [
    "'''\n",
    "1. get coverage for coding homopolymer\n",
    "    1.1 include all reads.\n",
    "    bsub -o log.txt -q medium \"samtools mpileup -A \\\n",
    "              -l f01_GRCh37_homopolyC_in_coding_begin.bed -f \\ \n",
    "              ../human_g1k_v37.fasta ../OMS_009_01.bam > all_begin.txt\"\n",
    "    1.2 include correctly mapping, concordant reads\n",
    "2. get coverage for genome homopolymer\n",
    "    2.1 include all reads.\n",
    "    bsub -o log.txt -q medium \"samtools mpileup -A \\\n",
    "              -l f02_GRCh37_homopolyC_whole_genome_begin.bed -f \\ \n",
    "              ../human_g1k_v37.fasta ../OMS_009_01.bam > \"\n",
    "    2.2 include correctly mapped reads.\n",
    "    .\n",
    "    \n",
    "'''\n",
    "import pandas as pd\n",
    "import re\n",
    "from matplotlib import pyplot as plt\n",
    "plt.style.use('ggplot')\n",
    "path = '/hpc/grid/wip_drm_targetsciences/users/shangzhong/BCH/pileup'\n",
    "\n",
    "#============ 1. coding coverage\n",
    "def get_begin_pos_of_homopolyC(in_bed,begin_bed):\n",
    "    df = pd.read_csv(in_bed,sep='\\t',header=None)\n",
    "    df[2] = df[1]\n",
    "    df[1] = df[2] - 1\n",
    "    df.to_csv(begin_bed, sep='\\t', index=False, header=None)\n",
    "# 1. extract begin loci of the homopolymer\n",
    "code_region_bed_fn = path + '/f01_GRCh37_homopolyC_in_coding.bed'\n",
    "code_begin_bed_fn = path + '/f01_GRCh37_homopolyC_in_coding_begin.bed'\n",
    "get_begin_pos_of_homopolyC(code_region_bed_fn, code_begin_bed_fn)\n",
    "df = pd.read_csv(code_region_bed_fn,sep='\\t',header=None)\n",
    "print('there are',df.shape[0],'homopolymer C regions in coding regions')\n",
    "genome_region_bed_fn = path + '/f02_GRCh37_homopolyC_whole_genome.bed'\n",
    "genome_begin_bed_fn = path + '/f02_GRCh37_homopolyC_whole_genome_begin.bed'\n",
    "get_begin_pos_of_homopolyC(genome_region_bed_fn, genome_begin_bed_fn)\n",
    "df = pd.read_csv(genome_region_bed_fn, sep='\\t', header=None)\n",
    "print('there are',df.shape[0],'homopolymer C regions in the whole genome')"
   ]
  },
  {
   "cell_type": "code",
   "execution_count": 213,
   "metadata": {},
   "outputs": [],
   "source": [
    "# 2. extract the coverage using samtools mpileup\n",
    "code_cov_fn = path + '/f01_GRCh37_homopolyC_coverage_in_coding.txt'\n",
    "code_cov_all_fn = path + '/f01_GRCh37_homopolyC_coverage_all_read_in_coding.txt'\n",
    "'''\n",
    "bsub -o log.txt -q medium \"samtools mpileup -A \\\n",
    "              -l f01_GRCh37_homopolyC_in_coding_begin.bed -f \\ \n",
    "              ../human_g1k_v37.fasta ../OMS_009_01.bam > all_begin.txt\"\n",
    "'''\n",
    "genome_cov_fn = path + '/f02_GRCh37_homopolyC_coverage_in_genome.txt'\n",
    "genome_cov_all_fn = path + '/f02_GRCh37_homopolyC_coverage_all_read_in_genome.txt'"
   ]
  },
  {
   "cell_type": "code",
   "execution_count": 214,
   "metadata": {},
   "outputs": [],
   "source": [
    "# 3. analyze the coverage\n",
    "def count_read(string):\n",
    "    '''\n",
    "    input is 5th column in mpileup file, and the \n",
    "    '''\n",
    "    string = string[4].lower()\n",
    "    insert = re.findall('\\+\\d+',string)\n",
    "    one_insert = insert.count('+1')\n",
    "    other_insert = len(insert) - one_insert\n",
    "    return pd.Series([one_insert,other_insert])"
   ]
  },
  {
   "cell_type": "code",
   "execution_count": 215,
   "metadata": {},
   "outputs": [
    {
     "name": "stderr",
     "output_type": "stream",
     "text": [
      "/hpc/grid/wip_drm_targetsciences/users/shangzhong/.conda/envs/hail/lib/python3.6/site-packages/IPython/core/interactiveshell.py:3063: DtypeWarning: Columns (0) have mixed types. Specify dtype option on import or set low_memory=False.\n",
      "  interactivity=interactivity, compiler=compiler, result=result)\n"
     ]
    }
   ],
   "source": [
    "vari_fn = path + '/variants.vcf.gz'\n",
    "vari_df = pd.read_csv(vari_fn,sep='\\t',comment='#',compression='gzip',header=None)\n",
    "vari_df['id'] = vari_df[0].astype('str') + ':' + vari_df[1].astype('str') + \\\n",
    "            vari_df[3].astype('str') + ':' + vari_df[4].astype('str')"
   ]
  },
  {
   "cell_type": "code",
   "execution_count": 216,
   "metadata": {},
   "outputs": [],
   "source": [
    "def get_read_portion(pile_fn, vari_df):\n",
    "    '''\n",
    "    get portion of reads that support the insertion\n",
    "    '''\n",
    "    loc_df = pd.read_csv(pile_fn, sep='\\t',header=None)\n",
    "    loc_df[['one_ins','more_ins']] = loc_df.apply(lambda x:count_read(x),axis=1)\n",
    "    loc_df['cov'] = loc_df[3] + loc_df['one_ins'] + loc_df['more_ins']\n",
    "    loc_df['one_perc'] = loc_df['one_ins'] / loc_df['cov'] \n",
    "    loc_df['id'] = loc_df[0].astype('str') +':' + loc_df[1].astype('str') + \\\n",
    "                    loc_df[2].astype('str') + ':' + loc_df[2].astype('str') + 'C'\n",
    "    loc_ids = loc_df['id'].tolist()\n",
    "    call_vari_id = vari_df.query('id in @loc_ids')['id'].tolist()\n",
    "    loc_df['called'] = loc_df['id'].map(lambda x:'Y' if x in call_vari_id else 'N')\n",
    "    return loc_df"
   ]
  },
  {
   "cell_type": "code",
   "execution_count": 232,
   "metadata": {},
   "outputs": [
    {
     "name": "stdout",
     "output_type": "stream",
     "text": [
      "there are 1717 reference reads in coding reagions\n",
      "253 one insertion reads in coding reagions\n",
      "83 more insertion reads in coding reagions\n"
     ]
    }
   ],
   "source": [
    "code_cov_df = get_read_portion(code_cov_fn, vari_df)\n",
    "print('there are',code_cov_df[3].sum(),'reference reads in coding reagions')\n",
    "print(code_cov_df['one_ins'].sum(),'one insertion reads in coding reagions')\n",
    "print(code_cov_df['more_ins'].sum(),'more insertion reads in coding reagions')"
   ]
  },
  {
   "cell_type": "code",
   "execution_count": 223,
   "metadata": {},
   "outputs": [
    {
     "data": {
      "text/plain": [
       "<matplotlib.legend.Legend at 0x2b14b344ca58>"
      ]
     },
     "execution_count": 223,
     "metadata": {},
     "output_type": "execute_result"
    },
    {
     "data": {
      "image/png": "[encoded data removed]",
      "text/plain": [
       "<Figure size 432x288 with 1 Axes>"
      ]
     },
     "metadata": {},
     "output_type": "display_data"
    }
   ],
   "source": [
    "plt.hist(code_cov_df.query('called == \"Y\"')['one_perc'].tolist(),alpha=0.5,label='called')\n",
    "plt.hist(code_cov_df.query('called == \"N\"')['one_perc'].tolist(),alpha=0.5,label='non-called')\n",
    "plt.xlabel('portion of reads with 1 insertion')\n",
    "plt.ylabel('count')\n",
    "plt.title('insertions in coding homopolymer')\n",
    "plt.legend()"
   ]
  },
  {
   "cell_type": "code",
   "execution_count": 235,
   "metadata": {},
   "outputs": [
    {
     "name": "stdout",
     "output_type": "stream",
     "text": [
      "there are 241312 reference reads in whole genome reagions\n",
      "24667 one insertion reads in whole genome reagions\n",
      "8049 more insertion reads in whole genome reagions\n"
     ]
    }
   ],
   "source": [
    "genome_cov_df = get_read_portion(genome_cov_fn, vari_df)\n",
    "print('there are',genome_cov_df[3].sum(),'reference reads in whole genome reagions')\n",
    "print(genome_cov_df['one_ins'].sum(),'one insertion reads in whole genome reagions')\n",
    "print(genome_cov_df['more_ins'].sum(),'more insertion reads in whole genome reagions')"
   ]
  },
  {
   "cell_type": "code",
   "execution_count": 236,
   "metadata": {},
   "outputs": [
    {
     "name": "stderr",
     "output_type": "stream",
     "text": [
      "/hpc/grid/wip_drm_targetsciences/users/shangzhong/.conda/envs/hail/lib/python3.6/site-packages/numpy/lib/histograms.py:839: RuntimeWarning: invalid value encountered in greater_equal\n",
      "  keep = (tmp_a >= first_edge)\n",
      "/hpc/grid/wip_drm_targetsciences/users/shangzhong/.conda/envs/hail/lib/python3.6/site-packages/numpy/lib/histograms.py:840: RuntimeWarning: invalid value encountered in less_equal\n",
      "  keep &= (tmp_a <= last_edge)\n"
     ]
    },
    {
     "data": {
      "text/plain": [
       "<matplotlib.legend.Legend at 0x2b1620231358>"
      ]
     },
     "execution_count": 236,
     "metadata": {},
     "output_type": "execute_result"
    },
    {
     "data": {
      "image/png": "[encoded data removed]",
      "text/plain": [
       "<Figure size 432x288 with 1 Axes>"
      ]
     },
     "metadata": {},
     "output_type": "display_data"
    }
   ],
   "source": [
    "plt.hist(genome_cov_df.query('called == \"Y\"')['one_perc'].tolist(),alpha=0.5,label='called')\n",
    "plt.hist(genome_cov_df.query('called == \"N\"')['one_perc'].tolist(),alpha=0.5,label='non-called')\n",
    "plt.xlabel('portion of reads with 1 insertion')\n",
    "plt.ylabel('count')\n",
    "plt.title('insertions in genome homopolymer')\n",
    "plt.legend()"
   ]
  }
 ],
 "metadata": {
  "kernelspec": {
   "display_name": "Python 3",
   "language": "python",
   "name": "python3"
  },
  "language_info": {
   "codemirror_mode": {
    "name": "ipython",
    "version": 3
   },
   "file_extension": ".py",
   "mimetype": "text/x-python",
   "name": "python",
   "nbconvert_exporter": "python",
   "pygments_lexer": "ipython3",
   "version": "3.6.10"
  }
 },
 "nbformat": 4,
 "nbformat_minor": 4
}
